{
 "cells": [
  {
   "cell_type": "markdown",
   "metadata": {},
   "source": [
    "# Google Data Analytics Course 8 - Capstone\n",
    "**Author: Carlos Ramos**\n",
    "\n",
    "**Date: 15/10/2022**"
   ]
  },
  {
   "cell_type": "markdown",
   "metadata": {},
   "source": [
    "#### **Case Study 1: How Does a Bike-Share Navigate Speedy Success?**\n",
    "\n",
    "\n",
    "##### **Background**\n",
    "\n",
    "This is the analysis performed for the Case 1 from Google Data Analytics Certificate called **Cyclistic bike-share analysis**\n",
    "\n",
    "\n",
    "##### **Business Purpose**\n",
    "\n",
    "The analysis is focused to answer the Business question: __How do annual members and casual riders use Cyclistic bikes differently?__"
   ]
  },
  {
   "cell_type": "markdown",
   "metadata": {},
   "source": [
    "<u> *Information about the dataset* </u>\n",
    "\n",
    "Dataset policy:\n",
    "\n",
    "* The data has been made available by MotivateInternational Inc. under [this license](https://www.divvybikes.com/data-license-agreement)\n",
    "* It is external data stored in the cloud\n",
    "* It used the long data time format\n",
    "* First-party data (reliable and original)\n",
    "* There is a file for each past 2022 year and availability months from 2023\n",
    "* There is not Personally Identifiable Information (PII)\n",
    "\n",
    "Dataset Process:\n",
    "\n",
    "* Each csv file is Downloaded \n",
    "* Each csv file is read in R and uploaded to a MS SQL Server 2019 database\n",
    "* All data is appended to the Database's Table _trips_data_\n",
    "* A total of 8.825.826 rows uploaded\n",
    "* Used in Tableau Public destop tool to create the visuals and perform analysis\n"
   ]
  },
  {
   "cell_type": "markdown",
   "metadata": {},
   "source": [
    "##### **Data Analysis**\n",
    "\n",
    "**Install required Packages**"
   ]
  },
  {
   "cell_type": "code",
   "execution_count": null,
   "metadata": {
    "vscode": {
     "languageId": "r"
    }
   },
   "outputs": [],
   "source": [
    "install.packages(\"tidyverse\")\n",
    "install.packages(\"RODBC\", type = \"source\", configure.args = c(\"--with-odbc-include=/usr/local/include/\", \"--with-odbc-lib=/usr/local/lib/\")) # nolint: line_length_linter."
   ]
  },
  {
   "cell_type": "code",
   "execution_count": null,
   "metadata": {
    "vscode": {
     "languageId": "r"
    }
   },
   "outputs": [],
   "source": [
    "library(tidyverse)\n",
    "library(RODBC)"
   ]
  },
  {
   "cell_type": "markdown",
   "metadata": {},
   "source": [
    "Load the CSV data from folder into data frames"
   ]
  },
  {
   "cell_type": "code",
   "execution_count": 4,
   "metadata": {
    "vscode": {
     "languageId": "r"
    }
   },
   "outputs": [],
   "source": [
    "df_tryps_202201 <- read.csv(\"/Users/carlos/Desktop/Python/R/capstone/data/202201-divvy-tripdata.csv\") # nolint\n",
    "df_tryps_202202 <- read.csv(\"/Users/carlos/Desktop/Python/R/capstone/data/202202-divvy-tripdata.csv\") # nolint\n",
    "df_tryps_202203 <- read.csv(\"/Users/carlos/Desktop/Python/R/capstone/data/202203-divvy-tripdata.csv\") # nolint\n",
    "df_tryps_202204 <- read.csv(\"/Users/carlos/Desktop/Python/R/capstone/data/202204-divvy-tripdata.csv\") # nolint\n",
    "df_tryps_202205 <- read.csv(\"/Users/carlos/Desktop/Python/R/capstone/data/202205-divvy-tripdata.csv\") # nolint\n",
    "df_tryps_202206 <- read.csv(\"/Users/carlos/Desktop/Python/R/capstone/data/202206-divvy-tripdata.csv\") # nolint\n",
    "df_tryps_202207 <- read.csv(\"/Users/carlos/Desktop/Python/R/capstone/data/202207-divvy-tripdata.csv\") # nolint\n",
    "df_tryps_202208 <- read.csv(\"/Users/carlos/Desktop/Python/R/capstone/data/202208-divvy-tripdata.csv\") # nolint\n",
    "df_tryps_202209 <- read.csv(\"/Users/carlos/Desktop/Python/R/capstone/data/202209-divvy-tripdata.csv\") # nolint\n",
    "df_tryps_202210 <- read.csv(\"/Users/carlos/Desktop/Python/R/capstone/data/202210-divvy-tripdata.csv\") # nolint\n",
    "df_tryps_202211 <- read.csv(\"/Users/carlos/Desktop/Python/R/capstone/data/202211-divvy-tripdata.csv\") # nolint\n",
    "df_tryps_202212 <- read.csv(\"/Users/carlos/Desktop/Python/R/capstone/data/202212-divvy-tripdata.csv\") # nolint\n",
    "\n",
    "df_tryps_202301 <- read.csv(\"/Users/carlos/Desktop/Python/R/capstone/data/202301-divvy-tripdata.csv\") # nolint\n",
    "df_tryps_202302 <- read.csv(\"/Users/carlos/Desktop/Python/R/capstone/data/202302-divvy-tripdata.csv\") # nolint\n",
    "df_tryps_202303 <- read.csv(\"/Users/carlos/Desktop/Python/R/capstone/data/202303-divvy-tripdata.csv\") # nolint\n",
    "df_tryps_202304 <- read.csv(\"/Users/carlos/Desktop/Python/R/capstone/data/202304-divvy-tripdata.csv\") # nolint\n",
    "df_tryps_202305 <- read.csv(\"/Users/carlos/Desktop/Python/R/capstone/data/202305-divvy-tripdata.csv\") # nolint\n",
    "df_tryps_202306 <- read.csv(\"/Users/carlos/Desktop/Python/R/capstone/data/202306-divvy-tripdata.csv\") # nolint\n",
    "df_tryps_202307 <- read.csv(\"/Users/carlos/Desktop/Python/R/capstone/data/202307-divvy-tripdata.csv\") # nolint"
   ]
  },
  {
   "cell_type": "markdown",
   "metadata": {},
   "source": [
    "Function for converting started_at and ended_at columns to datatime type"
   ]
  },
  {
   "cell_type": "code",
   "execution_count": 5,
   "metadata": {
    "vscode": {
     "languageId": "r"
    }
   },
   "outputs": [],
   "source": [
    "# Function to covert to datatime type two columns in the DF\n",
    "convert_datetime <- function(data) {\n",
    "    data$started_at <- strptime(data$started_at,\"%Y-%m-%d %H:%M:%S\")\n",
    "    data$ended_at <- strptime(data$ended_at,\"%Y-%m-%d %H:%M:%S\")\n",
    "}"
   ]
  },
  {
   "cell_type": "markdown",
   "metadata": {},
   "source": [
    "Conversion of all Data Frames"
   ]
  },
  {
   "cell_type": "code",
   "execution_count": 7,
   "metadata": {
    "vscode": {
     "languageId": "r"
    }
   },
   "outputs": [],
   "source": [
    "# Year 2022\n",
    "convert_datetime(df_tryps_202201)\n",
    "convert_datetime(df_tryps_202202)\n",
    "convert_datetime(df_tryps_202203)\n",
    "convert_datetime(df_tryps_202204)\n",
    "convert_datetime(df_tryps_202205)\n",
    "convert_datetime(df_tryps_202206)\n",
    "convert_datetime(df_tryps_202207)\n",
    "convert_datetime(df_tryps_202208)\n",
    "convert_datetime(df_tryps_202209)\n",
    "convert_datetime(df_tryps_202210)\n",
    "convert_datetime(df_tryps_202211)\n",
    "convert_datetime(df_tryps_202212)\n",
    "# Year 2023\n",
    "convert_datetime(df_tryps_202301)\n",
    "convert_datetime(df_tryps_202302)\n",
    "convert_datetime(df_tryps_202303)\n",
    "convert_datetime(df_tryps_202304)\n",
    "convert_datetime(df_tryps_202305)\n",
    "convert_datetime(df_tryps_202306)\n",
    "convert_datetime(df_tryps_202307)"
   ]
  },
  {
   "cell_type": "markdown",
   "metadata": {},
   "source": [
    "Upload the data to MS SQL Server\n",
    "* Create a Connection (RODBC package used)\n",
    "* Function is created to upload the DF to the database \n",
    "* Function is called for every DF from 2022 to 2023-07 (available data in 2023)"
   ]
  },
  {
   "cell_type": "code",
   "execution_count": null,
   "metadata": {
    "vscode": {
     "languageId": "r"
    }
   },
   "outputs": [],
   "source": [
    "# Create connection to the DB\n",
    "con <- RODBC::odbcDriverConnect(connection = \"driver=ODBC driver 18 for SQL Server;server=192.168.1.36;TrustServerCertificate=yes;database=Google;UID=esscrao;PWD=****\") # nolint\n",
    "\n",
    "# Function to upload DF to the DB\n",
    "# Params: data = DF , conn = database connection)\n",
    "upload_data <- function(data, conn){\n",
    "    ColumnsOfTable       <- sqlColumns(con, \"trips_data\") # nolint\n",
    "    varTypes             <- as.character(ColumnsOfTable$TYPE_NAME) # nolint\n",
    "    names(varTypes)      <- as.character(ColumnsOfTable$COLUMN_NAME)\n",
    "    colnames(data) <- as.character(ColumnsOfTable$COLUMN_NAME)\n",
    "    odbcSetAutoCommit(conn, autoCommit = FALSE)\n",
    "    sqlSave(conn, data, tablename = \"trip_data\", fast = FALSE, colnames = FALSE, rownames = FALSE, append = TRUE, verbose = FALSE, safer = TRUE) # nolint\n",
    "    odbcSetAutoCommit(conn, autoCommit = TRUE)\n",
    "    return (nrow(data)) # nolint\n",
    "}\n"
   ]
  },
  {
   "cell_type": "code",
   "execution_count": null,
   "metadata": {
    "vscode": {
     "languageId": "r"
    }
   },
   "outputs": [],
   "source": [
    "# 2022\n",
    "upload_data(df_tryps_202201, con)\n",
    "upload_data(df_tryps_202202, con)\n",
    "upload_data(df_tryps_202203, con)\n",
    "upload_data(df_tryps_202204, con)\n",
    "upload_data(df_tryps_202205, con)\n",
    "upload_data(df_tryps_202206, con)\n",
    "upload_data(df_tryps_202207, con)\n",
    "upload_data(df_tryps_202208, con)\n",
    "upload_data(df_tryps_202209, con)\n",
    "upload_data(df_tryps_202210, con)\n",
    "upload_data(df_tryps_202211, con)\n",
    "upload_data(df_tryps_202212, con)\n",
    "#2023\n",
    "upload_data(df_tryps_202301, con)\n",
    "upload_data(df_tryps_202302, con)\n",
    "upload_data(df_tryps_202303, con)\n",
    "upload_data(df_tryps_202304, con)\n",
    "upload_data(df_tryps_202305, con)\n",
    "upload_data(df_tryps_202306, con)\n",
    "upload_data(df_tryps_202307, con)\n",
    "upload_data(df_tryps_202308, con)\n",
    "upload_data(df_tryps_202309, con)\n",
    "upload_data(df_tryps_202310, con)\n",
    "upload_data(df_tryps_202311, con)\n",
    "upload_data(df_tryps_202312, con)\n"
   ]
  },
  {
   "cell_type": "markdown",
   "metadata": {},
   "source": [
    "##### **Tableau Proccess**\n",
    "\n",
    "* Create a live connection to the MS SQL Server table with the data using custom SQL to calculate in DB the time per trip\n",
    "* Create some calculations in Tableau:\n",
    "    - Trip = string with Origin to Destination\n",
    "    - Origin = MAKEPOINT([start_lat],[start_lng])\n",
    "    - Destination = MAKEPOINT([end_lat],[end_lng])\n",
    "    - Distance = DISTANCE([Origin],[Destination],'km')\n",
    "* Create different graphs to understand the data\n",
    "* Create a Dashboard with the result\n",
    "* Published to Tableau Public [Dashboard](https://public.tableau.com/app/profile/carlos.ramos2030/viz/CapstoneGoogle_16971918360790/Dashboard1)"
   ]
  },
  {
   "cell_type": "markdown",
   "metadata": {},
   "source": [
    "### **KEY TAKEAWAYS AND CONCLUSIONS**\n",
    "\n",
    "- Monthly trips per Months are increasing in 2023 compared to 2022 for Members but decreasing in Casuals\n",
    "- Members' trips are always bigger than Casuals' \n",
    "- On weekends casual bike riders increases. The most popular day for bike renting for all subscribers was Sunday.\n",
    "- The months with more trips are usually from June to Septembre\n",
    "- The busy hours in the service are from 16:00 to 18:00, being around 40% more from Members than casual at 17h\n",
    "- Casual Trips have more AVG duraction than the Members\n",
    "- Casual Trips have a little bit more AVG distances than members\n",
    "- Members usage is 60.56% compared to Casuals' 39.44%\n",
    "- Members usage more or less the same Electric and Classic Bikes (and don't use docked bikes)\n",
    "- Casuals usage more the Electric bikes (54.58%) compared to Classic Bikes (38.53%) and docked Bikes (6.89%)\n",
    "- Distances are similar along the year per bike type and minutes of use\n",
    "- Electric bikes are more used but with less time\n",
    "- Docked bikes are used in AGV time more than others, being distances little lower than Electrics' ones\n",
    "- Trips from Ellis Ave & 60th St to University Ave & 57th St are the most frecuently used\n",
    "- The data shows a clear seasonal fluctuations. It peaked during the summer months and was at its lowest point from the late fall to early spring.\n",
    "- Curiosity on the avg time of trips from Casual to members: Members take less time to perform similar trips than Casuals\n",
    "\n",
    "_See the Tableau [Dashboard](https://public.tableau.com/app/profile/carlos.ramos2030/viz/CapstoneGoogle_16971918360790/Dashboard1)_"
   ]
  },
  {
   "cell_type": "markdown",
   "metadata": {},
   "source": [
    "### **Recommendations**\n",
    "\n",
    "- Investing on Electric bikes is a good suggestion, since they are the most used type of bikes\n",
    "- Having the contract option of weekend Members may increase the number of Members in total\n",
    "- Moving bikes from low usage to high usage stations could also increase the service usage"
   ]
  },
  {
   "cell_type": "markdown",
   "metadata": {},
   "source": []
  }
 ],
 "metadata": {
  "kernelspec": {
   "display_name": "R",
   "language": "R",
   "name": "ir"
  },
  "language_info": {
   "codemirror_mode": "r",
   "file_extension": ".r",
   "mimetype": "text/x-r-source",
   "name": "R",
   "pygments_lexer": "r",
   "version": "4.3.1"
  }
 },
 "nbformat": 4,
 "nbformat_minor": 2
}
